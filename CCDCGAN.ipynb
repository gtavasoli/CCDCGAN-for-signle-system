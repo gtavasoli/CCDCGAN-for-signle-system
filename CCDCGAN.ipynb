{
 "cells": [
  {
   "cell_type": "code",
   "execution_count": null,
   "metadata": {
    "id": "fUl87iaLlTzI"
   },
   "outputs": [],
   "source": [
    "from google.colab import drive\n",
    "drive.mount('/content/drive')"
   ]
  },
  {
   "cell_type": "code",
   "execution_count": null,
   "metadata": {
    "id": "bYdujsjpvLKi"
   },
   "outputs": [],
   "source": [
    "!pip install ase"
   ]
  },
  {
   "cell_type": "code",
   "execution_count": null,
   "metadata": {
    "id": "n_Trx0ycroCM"
   },
   "outputs": [],
   "source": [
    "!git clone https://github.com/gtavasoli/CCDCGAN-for-signle-system.git CCDCGAN\n",
    "!mv CCDCGAN/* .\n",
    "!mv CCDCGAN/.* .\n",
    "!git checkout dev"
   ]
  },
  {
   "cell_type": "code",
   "execution_count": null,
   "metadata": {
    "id": "VOVl0soXt0rJ"
   },
   "outputs": [],
   "source": [
    "!unzip -qq database.zip"
   ]
  },
  {
   "cell_type": "code",
   "execution_count": null,
   "metadata": {
    "id": "diHIltdZ2szL"
   },
   "outputs": [],
   "source": [
    "!mkdir calculation\n",
    "!cp /content/drive/MyDrive/calculation/* ./calculation/\n",
    "!unzip -qq /content/calculation/original_lattice_graph.zip -d ./calculation/\n",
    "!unzip -qq /content/drive/MyDrive/calculation/original_sites_graph.zip -d ./calculation/"
   ]
  },
  {
   "cell_type": "code",
   "execution_count": null,
   "metadata": {
    "id": "wfUjmYCutbB-"
   },
   "outputs": [],
   "source": [
    "import sys\n",
    "sys.path.append('.')"
   ]
  },
  {
   "cell_type": "code",
   "execution_count": null,
   "metadata": {
    "id": "1rsUQBa2YxEM"
   },
   "outputs": [],
   "source": [
    "import importlib\n",
    "import prepare.data_transformation as dt\n",
    "import prepare.generate_train as gt\n",
    "\n",
    "GAN_database_folder_path='./database/'\n",
    "GAN_calculation_folder_path='./calculation/'"
   ]
  },
  {
   "cell_type": "code",
   "execution_count": null,
   "metadata": {
    "id": "q6-X6gmgvEVw"
   },
   "outputs": [],
   "source": [
    "### 1.1. generate 3d lattice voxel graph [DONE]\n",
    "# print('generating 3d lattice voxel graph')\n",
    "# dt.generate_lattice_graph(lattice_graph_path=GAN_calculation_folder_path+'original_lattice_graph/',atomlisttype='specified',a_list=['Bi'],data_path=GAN_database_folder_path+'geometries/',data_type='vasp')"
   ]
  },
  {
   "cell_type": "code",
   "execution_count": null,
   "metadata": {
    "id": "8296XzXqx7On"
   },
   "outputs": [],
   "source": [
    "### 1.2. generate 3d sites voxel graph (this graph will generate for each element. For binary it is a list file with length to be 2)\n",
    "# [DONE]\n",
    "# print('generating 3d sites voxel graph')\n",
    "# dt.generate_sites_graph(sites_graph_path=GAN_calculation_folder_path+'original_sites_graph/',atomlisttype='specified',a_list=['Bi','Se'],data_path=GAN_database_folder_path+'geometries/',data_type='vasp')"
   ]
  },
  {
   "cell_type": "code",
   "execution_count": null,
   "metadata": {
    "colab": {
     "base_uri": "https://localhost:8080/"
    },
    "id": "R2VRLTE37GBd",
    "outputId": "13588610-8eb4-4ea6-a0f2-ed7405a41046"
   },
   "outputs": [],
   "source": [
    "#### 2.1. generate encoded lattice and save the trained model\n",
    "import importlib\n",
    "print('lattice autoencoder running:')\n",
    "import prepare.lattice_autoencoder as la #comment: lattice_autoencoder has many similar functions as sites_autoencoder, so need to be imported every time used\n",
    "importlib.reload(la)\n",
    "la.train_autoencoder(lattice_graph_path=GAN_calculation_folder_path+'original_lattice_graph/',encoded_graph_path=GAN_calculation_folder_path+'original_encoded_lattice/',model_path=GAN_calculation_folder_path+'model/')"
   ]
  },
  {
   "cell_type": "code",
   "execution_count": null,
   "metadata": {
    "id": "cNTD-uuYPyUM"
   },
   "outputs": [],
   "source": [
    "!zip -r -9 original_encoded_lattice.zip /content/calculation/original_encoded_lattice\n",
    "!cp ./original_encoded_lattice.zip /content/drive/MyDrive/calculation/\n",
    "\n",
    "!zip -r -9 model.zip /content/calculation/model\n",
    "!cp ./model.zip /content/drive/MyDrive/calculation/"
   ]
  },
  {
   "cell_type": "code",
   "execution_count": null,
   "metadata": {
    "id": "-TYZu8GSQyGu"
   },
   "outputs": [],
   "source": [
    "from google.colab import runtime\n",
    "runtime.terminate()\n"
   ]
  }
 ],
 "metadata": {
  "accelerator": "GPU",
  "colab": {
   "gpuType": "T4",
   "provenance": []
  },
  "kernelspec": {
   "display_name": "Python 3",
   "name": "python3"
  },
  "language_info": {
   "name": "python"
  }
 },
 "nbformat": 4,
 "nbformat_minor": 0
}
